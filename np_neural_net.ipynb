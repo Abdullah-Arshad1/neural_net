{
  "cells": [
    {
      "cell_type": "markdown",
      "metadata": {
        "id": "view-in-github",
        "colab_type": "text"
      },
      "source": [
        "<a href=\"https://colab.research.google.com/github/Abdullah-Arshad1/neural_net/blob/main/np_neural_net.ipynb\" target=\"_parent\"><img src=\"https://colab.research.google.com/assets/colab-badge.svg\" alt=\"Open In Colab\"/></a>"
      ]
    },
    {
      "cell_type": "markdown",
      "metadata": {
        "id": "DPAH_IH3WSow"
      },
      "source": [
        "Importing numpy library"
      ]
    },
    {
      "cell_type": "code",
      "execution_count": null,
      "metadata": {
        "id": "oEtGDH0dWSoz"
      },
      "outputs": [],
      "source": [
        "import numpy as np"
      ]
    },
    {
      "cell_type": "markdown",
      "metadata": {
        "id": "F7X_ooyUWSo1"
      },
      "source": [
        "Activation Functions"
      ]
    },
    {
      "cell_type": "code",
      "execution_count": null,
      "metadata": {
        "id": "fBOv5RNSWSo1"
      },
      "outputs": [],
      "source": [
        "def sigmoid(x):\n",
        "    return 1/(1+np.exp(-x))\n",
        "\n",
        "def sigmoid_derivative(x):\n",
        "    return x * (1 - x)\n",
        "\n",
        "def relu(x):\n",
        "    return np.maximum(0, x)\n",
        "\n",
        "def relu_derivative(x):\n",
        "    return np.where(x>0, 1, 0)    #if x greater than 0 return 1\n",
        "\n",
        "def tanh(x):\n",
        "    return np.tanh(x)\n",
        "\n",
        "def tanh_derivative(x):\n",
        "    return 1 - np.tanh(x) ** 2"
      ]
    },
    {
      "cell_type": "markdown",
      "metadata": {
        "id": "YG_yHYAFWSo2"
      },
      "source": [
        "Neuron class"
      ]
    },
    {
      "cell_type": "code",
      "execution_count": null,
      "metadata": {
        "id": "2kzObXTgWSo2"
      },
      "outputs": [],
      "source": [
        "\n",
        "class Neuron:\n",
        "    def __init__(self, size_input):\n",
        "        self.weight = np.random.rand(size_input)\n",
        "        self.bias = np.random.rand()\n",
        "        print('Weights : ', self.weight)\n",
        "        print('Bias : ',self.bias)\n",
        "\n",
        "    def forward(self, input):\n",
        "        weighted_sum = np.dot(input, self.weight) + self.bias\n",
        "        return sigmoid(weighted_sum)"
      ]
    },
    {
      "cell_type": "markdown",
      "metadata": {
        "id": "KFSdzhn1WSo3"
      },
      "source": [
        "Layers in the network"
      ]
    },
    {
      "cell_type": "code",
      "execution_count": null,
      "metadata": {
        "id": "wCDHsDyaWSo3"
      },
      "outputs": [],
      "source": [
        "#---------- num_neurons: The number of neurons to create in this layer.\n",
        "#---------- inputs_neurons: The number of input connections each neuron in this layer will have.\n",
        "\n",
        "class NeuralLayer:\n",
        "    def  __init__(self, num_neuron, input_conn):\n",
        "        self.neurons = [Neuron(input_conn) for i in range(num_neuron)]\n",
        "\n",
        "    def forward(self, input):\n",
        "        self.outputs = [neuron.forward(input) for neuron in self.neurons]\n",
        "        print(\"Layer output : \",self.outputs)\n",
        "        return self.outputs"
      ]
    },
    {
      "cell_type": "markdown",
      "metadata": {
        "id": "26QTcJnRWSo3"
      },
      "source": [
        "Neural network"
      ]
    },
    {
      "cell_type": "code",
      "execution_count": null,
      "metadata": {
        "id": "Qnwy80UYWSo4"
      },
      "outputs": [],
      "source": [
        "class Neural_Network:\n",
        "    def __init__(self):\n",
        "        self.input_layer = NeuralLayer(2,2)\n",
        "        self.hidden_layer = NeuralLayer(3, 2)\n",
        "        self.output_layer = NeuralLayer(1, 3)\n",
        "\n",
        "    def forward(self, input):\n",
        "        hid_lay_out = self.hidden_layer.forward(input)\n",
        "        out_lay_out = self.output_layer.forward(hid_lay_out)\n",
        "        return out_lay_out"
      ]
    },
    {
      "cell_type": "markdown",
      "metadata": {
        "id": "-MSvtFsvWSo4"
      },
      "source": [
        "Deploying the code above"
      ]
    },
    {
      "cell_type": "code",
      "execution_count": null,
      "metadata": {
        "id": "kZs-wTHGWSo4",
        "outputId": "0c50edd0-32a9-401b-990f-e3ca62ea161e"
      },
      "outputs": [
        {
          "name": "stdout",
          "output_type": "stream",
          "text": [
            "Weights :  [0.05607372 0.34893324]\n",
            "Bias :  0.01781228206981511\n",
            "Weights :  [0.71533934 0.91505689]\n",
            "Bias :  0.2699201593392738\n",
            "Weights :  [0.45033919 0.70950189]\n",
            "Bias :  0.9952311198966994\n",
            "Weights :  [0.34813278 0.29724927]\n",
            "Bias :  0.5315520291077749\n",
            "Weights :  [0.54205424 0.88404546]\n",
            "Bias :  0.023381813527359796\n",
            "Weights :  [0.66242023 0.31204454 0.79028586]\n",
            "Bias :  0.203234129975716\n",
            "Layer output :  [0.9460671654493934, 0.8136924022676564, 0.9116159270177244]\n",
            "Layer output :  [0.8586683620551868]\n",
            "Neural Network output :  [0.8586683620551868]\n"
          ]
        }
      ],
      "source": [
        "neural = Neural_Network()\n",
        "\n",
        "input = np.array([1.0, 2.0])\n",
        "output = neural.forward(input)\n",
        "print(\"Neural Network output : \", output)"
      ]
    }
  ],
  "metadata": {
    "kernelspec": {
      "display_name": "base",
      "language": "python",
      "name": "python3"
    },
    "language_info": {
      "codemirror_mode": {
        "name": "ipython",
        "version": 3
      },
      "file_extension": ".py",
      "mimetype": "text/x-python",
      "name": "python",
      "nbconvert_exporter": "python",
      "pygments_lexer": "ipython3",
      "version": "3.11.7"
    },
    "colab": {
      "provenance": [],
      "include_colab_link": true
    }
  },
  "nbformat": 4,
  "nbformat_minor": 0
}